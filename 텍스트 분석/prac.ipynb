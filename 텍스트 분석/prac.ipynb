{
 "cells": [
  {
   "cell_type": "code",
   "execution_count": 5,
   "metadata": {},
   "outputs": [
    {
     "name": "stdout",
     "output_type": "stream",
     "text": [
      "body\n",
      "foo\n",
      "bar\n"
     ]
    }
   ],
   "source": [
    "list = ['body', 'foo', 'bar']\n",
    "\n",
    "for i, name in enumerate(list):\n",
    "     print(name)"
   ]
  },
  {
   "cell_type": "code",
   "execution_count": 6,
   "metadata": {},
   "outputs": [
    {
     "name": "stdout",
     "output_type": "stream",
     "text": [
      "(0, 'body')\n",
      "(1, 'foo')\n",
      "(2, 'bar')\n"
     ]
    }
   ],
   "source": [
    "list = ['body', 'foo', 'bar']\n",
    "\n",
    "for i in enumerate(list):\n",
    "     print(i)"
   ]
  },
  {
   "cell_type": "code",
   "execution_count": 9,
   "metadata": {},
   "outputs": [
    {
     "name": "stdout",
     "output_type": "stream",
     "text": [
      "['body', 'foo', 'bar']\n"
     ]
    }
   ],
   "source": [
    "list = [['body', 'foo', 'bar']]\n",
    "\n",
    "for i, name in enumerate(list):\n",
    "     print(name)"
   ]
  },
  {
   "cell_type": "code",
   "execution_count": 10,
   "metadata": {},
   "outputs": [],
   "source": [
    "list_data = [\n",
    "    [\"AlbumId\",\"Title\",\"ArtistId\"],\n",
    "    [1,\"For Those About To Rock We Salute You\",1],\n",
    "    [2,\"Balls to the Wall\",2],\n",
    "    [3,\"Restless and Wild\",2],\n",
    "    [4,\"Let There Be Rock\",1],\n",
    "]\n"
   ]
  },
  {
   "cell_type": "code",
   "execution_count": 15,
   "metadata": {},
   "outputs": [
    {
     "name": "stdout",
     "output_type": "stream",
     "text": [
      "(0, ['AlbumId', 'Title', 'ArtistId'])\n",
      "(1, [1, 'For Those About To Rock We Salute You', 1])\n",
      "(2, [2, 'Balls to the Wall', 2])\n",
      "(3, [3, 'Restless and Wild', 2])\n",
      "(4, [4, 'Let There Be Rock', 1])\n",
      "(5, [5, 'Big Ones', 3])\n",
      "(6, [6, 'Jagged Little Pill', 4])\n",
      "(7, [7, 'Facelift', 5])\n",
      "(8, [8, 'Warner 25 Anos', 6])\n",
      "(9, [9, 'Plays Metallica By Four Cellos', 7])\n",
      "(10, [10, 'Audioslave', 8])\n"
     ]
    }
   ],
   "source": [
    "for i in enumerate(list_data):\n",
    "    print(tuple(i))"
   ]
  },
  {
   "cell_type": "code",
   "execution_count": 14,
   "metadata": {},
   "outputs": [
    {
     "name": "stdout",
     "output_type": "stream",
     "text": [
      "(1, 'For Those About To Rock We Salute You', 1)\n",
      "(2, 'Balls to the Wall', 2)\n",
      "(3, 'Restless and Wild', 2)\n",
      "(4, 'Let There Be Rock', 1)\n",
      "(5, 'Big Ones', 3)\n",
      "(6, 'Jagged Little Pill', 4)\n",
      "(7, 'Facelift', 5)\n",
      "(8, 'Warner 25 Anos', 6)\n",
      "(9, 'Plays Metallica By Four Cellos', 7)\n",
      "(10, 'Audioslave', 8)\n"
     ]
    }
   ],
   "source": [
    "for i in list_data[1:]:\n",
    "    print(tuple(i))"
   ]
  },
  {
   "cell_type": "code",
   "execution_count": 21,
   "metadata": {},
   "outputs": [
    {
     "name": "stdout",
     "output_type": "stream",
     "text": [
      "0\n",
      "1\n",
      "2\n"
     ]
    }
   ],
   "source": [
    "list = ['body', 'foo', 'bar']\n",
    "\n",
    "for i in range(len(list)):\n",
    "    print(i)"
   ]
  },
  {
   "cell_type": "code",
   "execution_count": 22,
   "metadata": {},
   "outputs": [],
   "source": [
    "dictionary_data = {\n",
    "\t\t\"Columns\":[\"AlbumId\", \"Title\", \"ArtistId\"],\n",
    "\t\t\"1\" : [\"For Those About To Rock We Salute You\",1],\n",
    "    \t\"2\" : [\"Balls to the Wall\",2],\n",
    "    \t\"3\" : [\"Restless and Wild\",2],\n",
    "    \t\"4\" : [\"Let There Be Rock\",1],\n",
    "    \t\"5\" : [\"Big Ones\",3],\n",
    "    \t\"6\" : [\"Jagged Little Pill\",4],\n",
    "    \t\"7\" : [\"Facelift\",5],\n",
    "    \t\"8\" : [\"Warner 25 Anos\",6],\n",
    "    \t\"9\" : [\"Plays Metallica By Four Cellos\",7],\n",
    "    \t\"10\" : [\"Audioslave\",8]\n",
    "\t\t}"
   ]
  },
  {
   "cell_type": "code",
   "execution_count": 34,
   "metadata": {},
   "outputs": [
    {
     "ename": "ValueError",
     "evalue": "too many values to unpack (expected 2)",
     "output_type": "error",
     "traceback": [
      "\u001b[0;31m---------------------------------------------------------------------------\u001b[0m",
      "\u001b[0;31mValueError\u001b[0m                                Traceback (most recent call last)",
      "\u001b[0;32m<ipython-input-34-2b03ce0e7b51>\u001b[0m in \u001b[0;36m<module>\u001b[0;34m\u001b[0m\n\u001b[0;32m----> 1\u001b[0;31m \u001b[0;32mfor\u001b[0m \u001b[0mi\u001b[0m\u001b[0;34m,\u001b[0m \u001b[0;34m(\u001b[0m\u001b[0mk\u001b[0m\u001b[0;34m,\u001b[0m \u001b[0mv\u001b[0m\u001b[0;34m)\u001b[0m \u001b[0;32min\u001b[0m \u001b[0mdictionary_data\u001b[0m\u001b[0;34m:\u001b[0m\u001b[0;34m\u001b[0m\u001b[0;34m\u001b[0m\u001b[0m\n\u001b[0m\u001b[1;32m      2\u001b[0m     \u001b[0mprint\u001b[0m\u001b[0;34m(\u001b[0m\u001b[0mk\u001b[0m\u001b[0;34m)\u001b[0m\u001b[0;34m\u001b[0m\u001b[0;34m\u001b[0m\u001b[0m\n",
      "\u001b[0;31mValueError\u001b[0m: too many values to unpack (expected 2)"
     ]
    }
   ],
   "source": [
    "for i, (k, v) in dictionary_data:\n",
    "    print(k)"
   ]
  },
  {
   "cell_type": "code",
   "execution_count": 35,
   "metadata": {},
   "outputs": [
    {
     "name": "stdout",
     "output_type": "stream",
     "text": [
      "x corresponds to 1\n",
      "y corresponds to 2\n",
      "z corresponds to 3\n"
     ]
    }
   ],
   "source": [
    "d = {'x': 1, 'y': 2, 'z': 3} \n",
    "for key in d:\n",
    "    print (key, 'corresponds to', d[key])"
   ]
  },
  {
   "cell_type": "code",
   "execution_count": 36,
   "metadata": {},
   "outputs": [
    {
     "name": "stdout",
     "output_type": "stream",
     "text": [
      "Columns ['AlbumId', 'Title', 'ArtistId']\n",
      "1 ['For Those About To Rock We Salute You', 1]\n",
      "2 ['Balls to the Wall', 2]\n",
      "3 ['Restless and Wild', 2]\n",
      "4 ['Let There Be Rock', 1]\n",
      "5 ['Big Ones', 3]\n",
      "6 ['Jagged Little Pill', 4]\n",
      "7 ['Facelift', 5]\n",
      "8 ['Warner 25 Anos', 6]\n",
      "9 ['Plays Metallica By Four Cellos', 7]\n",
      "10 ['Audioslave', 8]\n"
     ]
    }
   ],
   "source": [
    "for key in dictionary_data:\n",
    "    print(key, dictionary_data[key])"
   ]
  },
  {
   "cell_type": "code",
   "execution_count": 39,
   "metadata": {},
   "outputs": [
    {
     "name": "stdout",
     "output_type": "stream",
     "text": [
      "('AlbumId', 'Title', 'ArtistId')\n",
      "('For Those About To Rock We Salute You', 1)\n",
      "('Balls to the Wall', 2)\n",
      "('Restless and Wild', 2)\n",
      "('Let There Be Rock', 1)\n",
      "('Big Ones', 3)\n",
      "('Jagged Little Pill', 4)\n",
      "('Facelift', 5)\n",
      "('Warner 25 Anos', 6)\n",
      "('Plays Metallica By Four Cellos', 7)\n",
      "('Audioslave', 8)\n"
     ]
    }
   ],
   "source": [
    "for key in dictionary_data:\n",
    "    print(tuple(dictionary_data[key]))"
   ]
  },
  {
   "cell_type": "code",
   "execution_count": null,
   "metadata": {},
   "outputs": [],
   "source": []
  }
 ],
 "metadata": {
  "kernelspec": {
   "display_name": "Python 3",
   "language": "python",
   "name": "python3"
  },
  "language_info": {
   "codemirror_mode": {
    "name": "ipython",
    "version": 3
   },
   "file_extension": ".py",
   "mimetype": "text/x-python",
   "name": "python",
   "nbconvert_exporter": "python",
   "pygments_lexer": "ipython3",
   "version": "3.8.5"
  },
  "toc": {
   "base_numbering": 1,
   "nav_menu": {},
   "number_sections": true,
   "sideBar": true,
   "skip_h1_title": false,
   "title_cell": "Table of Contents",
   "title_sidebar": "Contents",
   "toc_cell": false,
   "toc_position": {},
   "toc_section_display": true,
   "toc_window_display": false
  }
 },
 "nbformat": 4,
 "nbformat_minor": 4
}
