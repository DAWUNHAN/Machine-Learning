{
 "cells": [
  {
   "cell_type": "markdown",
   "metadata": {},
   "source": [
    "# 협업 필터링 (Collaborative Filtering)\n",
    "- 최근접 이웃 기반 (Nearest Neighbor): 사용자 기반, 아이템 기반\n",
    "- 잠재 요인 기반 (Latent Factor) : 행렬 분해 기반 (Matrix Factorization)\n",
    "\n",
    "# 사용자 기반과 아이템 기반 협업 필터링 이해\n",
    "## 사용자 기반 (User-User)\n",
    "- 특정 사용자와 비슷한 고객들을 기반으로 이 비슷한 고객들이 선호하는 다른 상품을 추천\n",
    "- 특정 사용자와 비슷한 상품을 구매해온 고객들은 비슷한 고객으로 간주\n",
    "- 당신과 비슷한 고객들이 다음 상품도 구매했습니다.\n",
    "\n",
    "## 아이템 기반 (Item-Item)\n",
    "- 특정 상품과 유사한 좋은 평가를 받은 다른 비슷한 상품을 추천.\n",
    "- 사용자들로부터 특정 상품과 비슷한 평가를 받은 상품들은 비슷한 상품으로 간주.\n",
    "- 이 상품을 선택한 다른 고객들은 다음 상품도 구매했습니다. \n"
   ]
  },
  {
   "cell_type": "code",
   "execution_count": null,
   "metadata": {},
   "outputs": [],
   "source": []
  }
 ],
 "metadata": {
  "kernelspec": {
   "display_name": "Python 3",
   "language": "python",
   "name": "python3"
  },
  "language_info": {
   "codemirror_mode": {
    "name": "ipython",
    "version": 3
   },
   "file_extension": ".py",
   "mimetype": "text/x-python",
   "name": "python",
   "nbconvert_exporter": "python",
   "pygments_lexer": "ipython3",
   "version": "3.8.5"
  },
  "toc": {
   "base_numbering": 1,
   "nav_menu": {},
   "number_sections": true,
   "sideBar": true,
   "skip_h1_title": false,
   "title_cell": "Table of Contents",
   "title_sidebar": "Contents",
   "toc_cell": false,
   "toc_position": {},
   "toc_section_display": true,
   "toc_window_display": false
  }
 },
 "nbformat": 4,
 "nbformat_minor": 4
}
